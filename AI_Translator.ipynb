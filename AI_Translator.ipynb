{
 "cells": [
  {
   "cell_type": "code",
   "execution_count": 1,
   "id": "16b6ad3b",
   "metadata": {},
   "outputs": [],
   "source": [
    "import warnings\n",
    "warnings.filterwarnings(\"ignore\", category=DeprecationWarning)\n",
    "warnings.filterwarnings(\"ignore\", category=FutureWarning)\n",
    "warnings.filterwarnings(\"ignore\", category=UserWarning)"
   ]
  },
  {
   "cell_type": "code",
   "execution_count": 2,
   "id": "db1ba2fc",
   "metadata": {},
   "outputs": [
    {
     "name": "stdout",
     "output_type": "stream",
     "text": [
      "Requirement already satisfied: transformers in c:\\softwares\\python 3.10.5\\lib\\site-packages (4.28.1)\n",
      "Requirement already satisfied: filelock in c:\\softwares\\python 3.10.5\\lib\\site-packages (from transformers) (3.9.0)\n",
      "Requirement already satisfied: huggingface-hub<1.0,>=0.11.0 in c:\\softwares\\python 3.10.5\\lib\\site-packages (from transformers) (0.13.4)\n",
      "Requirement already satisfied: numpy>=1.17 in c:\\softwares\\python 3.10.5\\lib\\site-packages (from transformers) (1.23.3)\n",
      "Requirement already satisfied: packaging>=20.0 in c:\\softwares\\python 3.10.5\\lib\\site-packages (from transformers) (21.3)\n",
      "Requirement already satisfied: pyyaml>=5.1 in c:\\softwares\\python 3.10.5\\lib\\site-packages (from transformers) (6.0)\n",
      "Requirement already satisfied: regex!=2019.12.17 in c:\\softwares\\python 3.10.5\\lib\\site-packages (from transformers) (2022.10.31)\n",
      "Requirement already satisfied: requests in c:\\softwares\\python 3.10.5\\lib\\site-packages (from transformers) (2.28.2)\n",
      "Requirement already satisfied: tokenizers!=0.11.3,<0.14,>=0.11.1 in c:\\softwares\\python 3.10.5\\lib\\site-packages (from transformers) (0.13.3)\n",
      "Requirement already satisfied: tqdm>=4.27 in c:\\softwares\\python 3.10.5\\lib\\site-packages (from transformers) (4.64.1)\n",
      "Requirement already satisfied: typing-extensions>=3.7.4.3 in c:\\softwares\\python 3.10.5\\lib\\site-packages (from huggingface-hub<1.0,>=0.11.0->transformers) (4.5.0)\n",
      "Requirement already satisfied: pyparsing!=3.0.5,>=2.0.2 in c:\\softwares\\python 3.10.5\\lib\\site-packages (from packaging>=20.0->transformers) (3.0.9)\n",
      "Requirement already satisfied: colorama in c:\\softwares\\python 3.10.5\\lib\\site-packages (from tqdm>=4.27->transformers) (0.4.6)\n",
      "Requirement already satisfied: charset-normalizer<4,>=2 in c:\\softwares\\python 3.10.5\\lib\\site-packages (from requests->transformers) (2.1.0)\n",
      "Requirement already satisfied: idna<4,>=2.5 in c:\\softwares\\python 3.10.5\\lib\\site-packages (from requests->transformers) (2.10)\n",
      "Requirement already satisfied: urllib3<1.27,>=1.21.1 in c:\\softwares\\python 3.10.5\\lib\\site-packages (from requests->transformers) (1.26.9)\n",
      "Requirement already satisfied: certifi>=2017.4.17 in c:\\softwares\\python 3.10.5\\lib\\site-packages (from requests->transformers) (2022.6.15)\n",
      "Requirement already satisfied: sentencepiece in c:\\softwares\\python 3.10.5\\lib\\site-packages (0.1.98)\n",
      "Requirement already satisfied: sacremoses in c:\\softwares\\python 3.10.5\\lib\\site-packages (0.0.53)\n",
      "Requirement already satisfied: regex in c:\\softwares\\python 3.10.5\\lib\\site-packages (from sacremoses) (2022.10.31)\n",
      "Requirement already satisfied: six in c:\\softwares\\python 3.10.5\\lib\\site-packages (from sacremoses) (1.16.0)\n",
      "Requirement already satisfied: click in c:\\softwares\\python 3.10.5\\lib\\site-packages (from sacremoses) (8.1.3)\n",
      "Requirement already satisfied: joblib in c:\\softwares\\python 3.10.5\\lib\\site-packages (from sacremoses) (1.2.0)\n",
      "Requirement already satisfied: tqdm in c:\\softwares\\python 3.10.5\\lib\\site-packages (from sacremoses) (4.64.1)\n",
      "Requirement already satisfied: colorama in c:\\softwares\\python 3.10.5\\lib\\site-packages (from click->sacremoses) (0.4.6)\n",
      "Requirement already satisfied: torch in c:\\softwares\\python 3.10.5\\lib\\site-packages (2.0.0)\n",
      "Requirement already satisfied: torchvision in c:\\softwares\\python 3.10.5\\lib\\site-packages (0.15.1)\n",
      "Requirement already satisfied: torchaudio in c:\\softwares\\python 3.10.5\\lib\\site-packages (2.0.1)\n",
      "Requirement already satisfied: filelock in c:\\softwares\\python 3.10.5\\lib\\site-packages (from torch) (3.9.0)\n",
      "Requirement already satisfied: typing-extensions in c:\\softwares\\python 3.10.5\\lib\\site-packages (from torch) (4.5.0)\n",
      "Requirement already satisfied: sympy in c:\\softwares\\python 3.10.5\\lib\\site-packages (from torch) (1.11.1)\n",
      "Requirement already satisfied: networkx in c:\\softwares\\python 3.10.5\\lib\\site-packages (from torch) (3.1)\n",
      "Requirement already satisfied: jinja2 in c:\\softwares\\python 3.10.5\\lib\\site-packages (from torch) (3.1.2)\n",
      "Requirement already satisfied: numpy in c:\\softwares\\python 3.10.5\\lib\\site-packages (from torchvision) (1.23.3)\n",
      "Requirement already satisfied: requests in c:\\softwares\\python 3.10.5\\lib\\site-packages (from torchvision) (2.28.2)\n",
      "Requirement already satisfied: pillow!=8.3.*,>=5.3.0 in c:\\softwares\\python 3.10.5\\lib\\site-packages (from torchvision) (8.4.0)\n",
      "Requirement already satisfied: MarkupSafe>=2.0 in c:\\softwares\\python 3.10.5\\lib\\site-packages (from jinja2->torch) (2.1.1)\n",
      "Requirement already satisfied: charset-normalizer<4,>=2 in c:\\softwares\\python 3.10.5\\lib\\site-packages (from requests->torchvision) (2.1.0)\n",
      "Requirement already satisfied: idna<4,>=2.5 in c:\\softwares\\python 3.10.5\\lib\\site-packages (from requests->torchvision) (2.10)\n",
      "Requirement already satisfied: urllib3<1.27,>=1.21.1 in c:\\softwares\\python 3.10.5\\lib\\site-packages (from requests->torchvision) (1.26.9)\n",
      "Requirement already satisfied: certifi>=2017.4.17 in c:\\softwares\\python 3.10.5\\lib\\site-packages (from requests->torchvision) (2022.6.15)\n",
      "Requirement already satisfied: mpmath>=0.19 in c:\\softwares\\python 3.10.5\\lib\\site-packages (from sympy->torch) (1.3.0)\n"
     ]
    }
   ],
   "source": [
    "!pip install transformers\n",
    "!pip install sentencepiece\n",
    "!pip install sacremoses\n",
    "!pip install torch torchvision torchaudio"
   ]
  },
  {
   "cell_type": "code",
   "execution_count": 3,
   "id": "325b5166",
   "metadata": {
    "scrolled": true
   },
   "outputs": [],
   "source": [
    "from transformers import AutoTokenizer, AutoModelForSeq2SeqLM\n",
    "\n",
    "tokenizer = AutoTokenizer.from_pretrained(\"Helsinki-NLP/opus-mt-en-hi\")\n",
    "model = AutoModelForSeq2SeqLM.from_pretrained(\"Helsinki-NLP/opus-mt-en-hi\")\n",
    "\n",
    "tokenizer.save_pretrained(\"saved_model/\")\n",
    "model.save_pretrained(\"saved_model/\")\n",
    "\n",
    "loaded_tokenizer = AutoTokenizer.from_pretrained(\"saved_model/\")\n",
    "loaded_model = AutoModelForSeq2SeqLM.from_pretrained(\"saved_model/\")"
   ]
  },
  {
   "cell_type": "code",
   "execution_count": 4,
   "id": "3bf311e5",
   "metadata": {},
   "outputs": [],
   "source": [
    "def translator(text):\n",
    "  input_ids = tokenizer.encode(text, return_tensors=\"pt\", padding=True)\n",
    "  outputs = model.generate(input_ids)\n",
    "  decoded_text = tokenizer.decode(outputs[0], skip_special_tokens=True)\n",
    "  \n",
    "  return decoded_text"
   ]
  },
  {
   "cell_type": "code",
   "execution_count": 5,
   "id": "cc598a6b",
   "metadata": {},
   "outputs": [
    {
     "name": "stdout",
     "output_type": "stream",
     "text": [
      "English to Hindi Conversion\n",
      "Enter the sentence : I am Hungry\n"
     ]
    }
   ],
   "source": [
    "print(\"English to Hindi Conversion\")\n",
    "sentence = input(\"Enter the sentence : \")"
   ]
  },
  {
   "cell_type": "code",
   "execution_count": 6,
   "id": "7864f550",
   "metadata": {},
   "outputs": [
    {
     "name": "stdout",
     "output_type": "stream",
     "text": [
      "Hindi Conversion :  मैं भूख से तड़प रहा हूँ\n"
     ]
    }
   ],
   "source": [
    "print(\"Hindi Conversion : \", translator(sentence))"
   ]
  },
  {
   "cell_type": "code",
   "execution_count": null,
   "id": "54278c06",
   "metadata": {},
   "outputs": [],
   "source": []
  }
 ],
 "metadata": {
  "kernelspec": {
   "display_name": "Python 3 (ipykernel)",
   "language": "python",
   "name": "python3"
  },
  "language_info": {
   "codemirror_mode": {
    "name": "ipython",
    "version": 3
   },
   "file_extension": ".py",
   "mimetype": "text/x-python",
   "name": "python",
   "nbconvert_exporter": "python",
   "pygments_lexer": "ipython3",
   "version": "3.10.5"
  }
 },
 "nbformat": 4,
 "nbformat_minor": 5
}
